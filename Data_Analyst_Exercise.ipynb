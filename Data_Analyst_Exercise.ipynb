{
  "nbformat": 4,
  "nbformat_minor": 0,
  "metadata": {
    "colab": {
      "name": "Data Analyst Exercise.ipynb",
      "provenance": [],
      "collapsed_sections": [],
      "mount_file_id": "1JOwxqxhze3oDBXD6beEJOfE_ryqm6rag",
      "authorship_tag": "ABX9TyNvXkAVTdlxOn4vG0C5Aw0c",
      "include_colab_link": true
    },
    "kernelspec": {
      "name": "python3",
      "display_name": "Python 3"
    },
    "language_info": {
      "name": "python"
    }
  },
  "cells": [
    {
      "cell_type": "markdown",
      "metadata": {
        "id": "view-in-github",
        "colab_type": "text"
      },
      "source": [
        "<a href=\"https://colab.research.google.com/github/pchamio/Data-Analyst-Exercise/blob/main/Data_Analyst_Exercise.ipynb\" target=\"_parent\"><img src=\"https://colab.research.google.com/assets/colab-badge.svg\" alt=\"Open In Colab\"/></a>"
      ]
    },
    {
      "cell_type": "markdown",
      "metadata": {
        "id": "FtlLAT1hq8Mu"
      },
      "source": [
        "# Data Analyst Exercise\n"
      ]
    },
    {
      "cell_type": "markdown",
      "metadata": {
        "id": "-vT3tjLzVvW9"
      },
      "source": [
        "Import all the libraries"
      ]
    },
    {
      "cell_type": "code",
      "metadata": {
        "id": "_hEQC7IKp6Nh"
      },
      "source": [
        "# import\n",
        "import pandas as pd\n",
        "import seaborn as sns\n",
        "import matplotlib.pyplot as plt\n",
        "import numpy as np\n",
        "from collections import defaultdict\n",
        "from sklearn import linear_model\n",
        "from sklearn.metrics import mean_squared_error, r2_score\n",
        "from sklearn.neighbors import LocalOutlierFactor\n",
        "from sklearn.metrics import mean_absolute_error\n",
        "import requests\n",
        "from bs4 import BeautifulSoup"
      ],
      "execution_count": 1,
      "outputs": []
    },
    {
      "cell_type": "markdown",
      "metadata": {
        "id": "-obGKVGyV_w5"
      },
      "source": [
        "Load the given data"
      ]
    },
    {
      "cell_type": "code",
      "metadata": {
        "colab": {
          "base_uri": "https://localhost:8080/",
          "height": 206
        },
        "id": "jU1DCAiKrYRY",
        "outputId": "afc5c082-1924-4499-f540-95eaedee9712"
      },
      "source": [
        "# load movies_budgets data\n",
        "movies_budgets = pd.read_csv('movies_budgets.csv')\n",
        "movies_budgets.rename(columns={'Unnamed: 0':'ID'},inplace=True)\n",
        "movies_budgets.head()"
      ],
      "execution_count": 2,
      "outputs": [
        {
          "output_type": "execute_result",
          "data": {
            "text/html": [
              "<div>\n",
              "<style scoped>\n",
              "    .dataframe tbody tr th:only-of-type {\n",
              "        vertical-align: middle;\n",
              "    }\n",
              "\n",
              "    .dataframe tbody tr th {\n",
              "        vertical-align: top;\n",
              "    }\n",
              "\n",
              "    .dataframe thead th {\n",
              "        text-align: right;\n",
              "    }\n",
              "</style>\n",
              "<table border=\"1\" class=\"dataframe\">\n",
              "  <thead>\n",
              "    <tr style=\"text-align: right;\">\n",
              "      <th></th>\n",
              "      <th>ID</th>\n",
              "      <th>movie</th>\n",
              "      <th>budget</th>\n",
              "      <th>num_employees</th>\n",
              "      <th>time_minute</th>\n",
              "      <th>year</th>\n",
              "      <th>num_actors</th>\n",
              "    </tr>\n",
              "  </thead>\n",
              "  <tbody>\n",
              "    <tr>\n",
              "      <th>0</th>\n",
              "      <td>0</td>\n",
              "      <td>Joker</td>\n",
              "      <td>1.252633e+07</td>\n",
              "      <td>62</td>\n",
              "      <td>122</td>\n",
              "      <td>2019</td>\n",
              "      <td>13</td>\n",
              "    </tr>\n",
              "    <tr>\n",
              "      <th>1</th>\n",
              "      <td>1</td>\n",
              "      <td>Parasite</td>\n",
              "      <td>9.034395e+07</td>\n",
              "      <td>80</td>\n",
              "      <td>132</td>\n",
              "      <td>2019</td>\n",
              "      <td>5</td>\n",
              "    </tr>\n",
              "    <tr>\n",
              "      <th>2</th>\n",
              "      <td>2</td>\n",
              "      <td>Knives Out</td>\n",
              "      <td>4.833149e+07</td>\n",
              "      <td>50</td>\n",
              "      <td>130</td>\n",
              "      <td>2019</td>\n",
              "      <td>12</td>\n",
              "    </tr>\n",
              "    <tr>\n",
              "      <th>3</th>\n",
              "      <td>3</td>\n",
              "      <td>Once Upon a Time... in Hollywood</td>\n",
              "      <td>5.024064e+07</td>\n",
              "      <td>89</td>\n",
              "      <td>161</td>\n",
              "      <td>2019</td>\n",
              "      <td>16</td>\n",
              "    </tr>\n",
              "    <tr>\n",
              "      <th>4</th>\n",
              "      <td>4</td>\n",
              "      <td>The Gentlemen</td>\n",
              "      <td>6.649767e+06</td>\n",
              "      <td>94</td>\n",
              "      <td>113</td>\n",
              "      <td>2019</td>\n",
              "      <td>9</td>\n",
              "    </tr>\n",
              "  </tbody>\n",
              "</table>\n",
              "</div>"
            ],
            "text/plain": [
              "   ID                             movie  ...  year  num_actors\n",
              "0   0                             Joker  ...  2019          13\n",
              "1   1                          Parasite  ...  2019           5\n",
              "2   2                        Knives Out  ...  2019          12\n",
              "3   3  Once Upon a Time... in Hollywood  ...  2019          16\n",
              "4   4                     The Gentlemen  ...  2019           9\n",
              "\n",
              "[5 rows x 7 columns]"
            ]
          },
          "metadata": {
            "tags": []
          },
          "execution_count": 2
        }
      ]
    },
    {
      "cell_type": "code",
      "metadata": {
        "colab": {
          "base_uri": "https://localhost:8080/",
          "height": 206
        },
        "id": "IzrOZfUksiO6",
        "outputId": "77db258a-3a3b-46e1-9a90-7d3c16de3a93"
      },
      "source": [
        "# load movies_scores data\n",
        "movies_scores = pd.read_csv('movies_scores.csv')\n",
        "movies_scores.rename(columns={'Unnamed: 0':'ID'},inplace=True)\n",
        "movies_scores.head()"
      ],
      "execution_count": 3,
      "outputs": [
        {
          "output_type": "execute_result",
          "data": {
            "text/html": [
              "<div>\n",
              "<style scoped>\n",
              "    .dataframe tbody tr th:only-of-type {\n",
              "        vertical-align: middle;\n",
              "    }\n",
              "\n",
              "    .dataframe tbody tr th {\n",
              "        vertical-align: top;\n",
              "    }\n",
              "\n",
              "    .dataframe thead th {\n",
              "        text-align: right;\n",
              "    }\n",
              "</style>\n",
              "<table border=\"1\" class=\"dataframe\">\n",
              "  <thead>\n",
              "    <tr style=\"text-align: right;\">\n",
              "      <th></th>\n",
              "      <th>ID</th>\n",
              "      <th>movie</th>\n",
              "      <th>time_minute</th>\n",
              "      <th>year</th>\n",
              "      <th>vote</th>\n",
              "      <th>grade</th>\n",
              "      <th>directors</th>\n",
              "    </tr>\n",
              "  </thead>\n",
              "  <tbody>\n",
              "    <tr>\n",
              "      <th>0</th>\n",
              "      <td>0</td>\n",
              "      <td>Joker</td>\n",
              "      <td>122</td>\n",
              "      <td>2019</td>\n",
              "      <td>808270</td>\n",
              "      <td>2.683119</td>\n",
              "      <td>168</td>\n",
              "    </tr>\n",
              "    <tr>\n",
              "      <th>1</th>\n",
              "      <td>1</td>\n",
              "      <td>Parasite</td>\n",
              "      <td>132</td>\n",
              "      <td>2019</td>\n",
              "      <td>426750</td>\n",
              "      <td>8.495495</td>\n",
              "      <td>527</td>\n",
              "    </tr>\n",
              "    <tr>\n",
              "      <th>2</th>\n",
              "      <td>2</td>\n",
              "      <td>Knives Out</td>\n",
              "      <td>130</td>\n",
              "      <td>2019</td>\n",
              "      <td>319809</td>\n",
              "      <td>6.045874</td>\n",
              "      <td>493</td>\n",
              "    </tr>\n",
              "    <tr>\n",
              "      <th>3</th>\n",
              "      <td>3</td>\n",
              "      <td>Once Upon a Time... in Hollywood</td>\n",
              "      <td>161</td>\n",
              "      <td>2019</td>\n",
              "      <td>478002</td>\n",
              "      <td>6.211508</td>\n",
              "      <td>534</td>\n",
              "    </tr>\n",
              "    <tr>\n",
              "      <th>4</th>\n",
              "      <td>4</td>\n",
              "      <td>The Gentlemen</td>\n",
              "      <td>113</td>\n",
              "      <td>2019</td>\n",
              "      <td>146955</td>\n",
              "      <td>1.742737</td>\n",
              "      <td>299</td>\n",
              "    </tr>\n",
              "  </tbody>\n",
              "</table>\n",
              "</div>"
            ],
            "text/plain": [
              "   ID                             movie  ...     grade  directors\n",
              "0   0                             Joker  ...  2.683119        168\n",
              "1   1                          Parasite  ...  8.495495        527\n",
              "2   2                        Knives Out  ...  6.045874        493\n",
              "3   3  Once Upon a Time... in Hollywood  ...  6.211508        534\n",
              "4   4                     The Gentlemen  ...  1.742737        299\n",
              "\n",
              "[5 rows x 7 columns]"
            ]
          },
          "metadata": {
            "tags": []
          },
          "execution_count": 3
        }
      ]
    },
    {
      "cell_type": "markdown",
      "metadata": {
        "id": "_j40zhY6WHMw"
      },
      "source": [
        "Explore dataset"
      ]
    },
    {
      "cell_type": "code",
      "metadata": {
        "colab": {
          "base_uri": "https://localhost:8080/",
          "height": 300
        },
        "id": "u-s9jTsSu0Zp",
        "outputId": "4fce28ea-9247-4d85-8777-43d77ea894de"
      },
      "source": [
        "movies_budgets.describe()"
      ],
      "execution_count": 4,
      "outputs": [
        {
          "output_type": "execute_result",
          "data": {
            "text/html": [
              "<div>\n",
              "<style scoped>\n",
              "    .dataframe tbody tr th:only-of-type {\n",
              "        vertical-align: middle;\n",
              "    }\n",
              "\n",
              "    .dataframe tbody tr th {\n",
              "        vertical-align: top;\n",
              "    }\n",
              "\n",
              "    .dataframe thead th {\n",
              "        text-align: right;\n",
              "    }\n",
              "</style>\n",
              "<table border=\"1\" class=\"dataframe\">\n",
              "  <thead>\n",
              "    <tr style=\"text-align: right;\">\n",
              "      <th></th>\n",
              "      <th>ID</th>\n",
              "      <th>budget</th>\n",
              "      <th>num_employees</th>\n",
              "      <th>time_minute</th>\n",
              "      <th>year</th>\n",
              "      <th>num_actors</th>\n",
              "    </tr>\n",
              "  </thead>\n",
              "  <tbody>\n",
              "    <tr>\n",
              "      <th>count</th>\n",
              "      <td>1000.000000</td>\n",
              "      <td>1.000000e+03</td>\n",
              "      <td>1000.000000</td>\n",
              "      <td>1000.000000</td>\n",
              "      <td>1000.000000</td>\n",
              "      <td>1000.000000</td>\n",
              "    </tr>\n",
              "    <tr>\n",
              "      <th>mean</th>\n",
              "      <td>499.500000</td>\n",
              "      <td>4.418983e+07</td>\n",
              "      <td>69.928000</td>\n",
              "      <td>122.250000</td>\n",
              "      <td>1991.013000</td>\n",
              "      <td>11.935000</td>\n",
              "    </tr>\n",
              "    <tr>\n",
              "      <th>std</th>\n",
              "      <td>288.819436</td>\n",
              "      <td>2.214552e+07</td>\n",
              "      <td>28.400059</td>\n",
              "      <td>27.871856</td>\n",
              "      <td>23.059587</td>\n",
              "      <td>4.434009</td>\n",
              "    </tr>\n",
              "    <tr>\n",
              "      <th>min</th>\n",
              "      <td>0.000000</td>\n",
              "      <td>3.439503e+05</td>\n",
              "      <td>20.000000</td>\n",
              "      <td>45.000000</td>\n",
              "      <td>1920.000000</td>\n",
              "      <td>5.000000</td>\n",
              "    </tr>\n",
              "    <tr>\n",
              "      <th>25%</th>\n",
              "      <td>249.750000</td>\n",
              "      <td>2.933318e+07</td>\n",
              "      <td>47.000000</td>\n",
              "      <td>102.000000</td>\n",
              "      <td>1976.000000</td>\n",
              "      <td>8.000000</td>\n",
              "    </tr>\n",
              "    <tr>\n",
              "      <th>50%</th>\n",
              "      <td>499.500000</td>\n",
              "      <td>4.152462e+07</td>\n",
              "      <td>69.000000</td>\n",
              "      <td>119.000000</td>\n",
              "      <td>1998.500000</td>\n",
              "      <td>12.000000</td>\n",
              "    </tr>\n",
              "    <tr>\n",
              "      <th>75%</th>\n",
              "      <td>749.250000</td>\n",
              "      <td>5.615621e+07</td>\n",
              "      <td>95.000000</td>\n",
              "      <td>136.000000</td>\n",
              "      <td>2009.000000</td>\n",
              "      <td>16.000000</td>\n",
              "    </tr>\n",
              "    <tr>\n",
              "      <th>max</th>\n",
              "      <td>999.000000</td>\n",
              "      <td>1.058777e+08</td>\n",
              "      <td>119.000000</td>\n",
              "      <td>321.000000</td>\n",
              "      <td>2019.000000</td>\n",
              "      <td>19.000000</td>\n",
              "    </tr>\n",
              "  </tbody>\n",
              "</table>\n",
              "</div>"
            ],
            "text/plain": [
              "                ID        budget  ...         year   num_actors\n",
              "count  1000.000000  1.000000e+03  ...  1000.000000  1000.000000\n",
              "mean    499.500000  4.418983e+07  ...  1991.013000    11.935000\n",
              "std     288.819436  2.214552e+07  ...    23.059587     4.434009\n",
              "min       0.000000  3.439503e+05  ...  1920.000000     5.000000\n",
              "25%     249.750000  2.933318e+07  ...  1976.000000     8.000000\n",
              "50%     499.500000  4.152462e+07  ...  1998.500000    12.000000\n",
              "75%     749.250000  5.615621e+07  ...  2009.000000    16.000000\n",
              "max     999.000000  1.058777e+08  ...  2019.000000    19.000000\n",
              "\n",
              "[8 rows x 6 columns]"
            ]
          },
          "metadata": {
            "tags": []
          },
          "execution_count": 4
        }
      ]
    },
    {
      "cell_type": "code",
      "metadata": {
        "colab": {
          "base_uri": "https://localhost:8080/",
          "height": 300
        },
        "id": "O_3dbL7ovPzT",
        "outputId": "1aab75ea-33d9-4176-8788-08663674c49b"
      },
      "source": [
        "movies_scores.describe()"
      ],
      "execution_count": 5,
      "outputs": [
        {
          "output_type": "execute_result",
          "data": {
            "text/html": [
              "<div>\n",
              "<style scoped>\n",
              "    .dataframe tbody tr th:only-of-type {\n",
              "        vertical-align: middle;\n",
              "    }\n",
              "\n",
              "    .dataframe tbody tr th {\n",
              "        vertical-align: top;\n",
              "    }\n",
              "\n",
              "    .dataframe thead th {\n",
              "        text-align: right;\n",
              "    }\n",
              "</style>\n",
              "<table border=\"1\" class=\"dataframe\">\n",
              "  <thead>\n",
              "    <tr style=\"text-align: right;\">\n",
              "      <th></th>\n",
              "      <th>ID</th>\n",
              "      <th>time_minute</th>\n",
              "      <th>year</th>\n",
              "      <th>vote</th>\n",
              "      <th>grade</th>\n",
              "      <th>directors</th>\n",
              "    </tr>\n",
              "  </thead>\n",
              "  <tbody>\n",
              "    <tr>\n",
              "      <th>count</th>\n",
              "      <td>1000.000000</td>\n",
              "      <td>1000.000000</td>\n",
              "      <td>1000.000000</td>\n",
              "      <td>1.000000e+03</td>\n",
              "      <td>1000.000000</td>\n",
              "      <td>1000.000000</td>\n",
              "    </tr>\n",
              "    <tr>\n",
              "      <th>mean</th>\n",
              "      <td>499.500000</td>\n",
              "      <td>122.250000</td>\n",
              "      <td>1991.013000</td>\n",
              "      <td>2.659911e+05</td>\n",
              "      <td>5.475654</td>\n",
              "      <td>269.067000</td>\n",
              "    </tr>\n",
              "    <tr>\n",
              "      <th>std</th>\n",
              "      <td>288.819436</td>\n",
              "      <td>27.871856</td>\n",
              "      <td>23.059587</td>\n",
              "      <td>3.144706e+05</td>\n",
              "      <td>1.724042</td>\n",
              "      <td>158.129363</td>\n",
              "    </tr>\n",
              "    <tr>\n",
              "      <th>min</th>\n",
              "      <td>0.000000</td>\n",
              "      <td>45.000000</td>\n",
              "      <td>1920.000000</td>\n",
              "      <td>2.518200e+04</td>\n",
              "      <td>0.014822</td>\n",
              "      <td>0.000000</td>\n",
              "    </tr>\n",
              "    <tr>\n",
              "      <th>25%</th>\n",
              "      <td>249.750000</td>\n",
              "      <td>102.000000</td>\n",
              "      <td>1976.000000</td>\n",
              "      <td>5.442525e+04</td>\n",
              "      <td>4.474390</td>\n",
              "      <td>134.000000</td>\n",
              "    </tr>\n",
              "    <tr>\n",
              "      <th>50%</th>\n",
              "      <td>499.500000</td>\n",
              "      <td>119.000000</td>\n",
              "      <td>1998.500000</td>\n",
              "      <td>1.368875e+05</td>\n",
              "      <td>5.500000</td>\n",
              "      <td>268.000000</td>\n",
              "    </tr>\n",
              "    <tr>\n",
              "      <th>75%</th>\n",
              "      <td>749.250000</td>\n",
              "      <td>136.000000</td>\n",
              "      <td>2009.000000</td>\n",
              "      <td>3.631140e+05</td>\n",
              "      <td>6.547221</td>\n",
              "      <td>401.250000</td>\n",
              "    </tr>\n",
              "    <tr>\n",
              "      <th>max</th>\n",
              "      <td>999.000000</td>\n",
              "      <td>321.000000</td>\n",
              "      <td>2019.000000</td>\n",
              "      <td>2.250445e+06</td>\n",
              "      <td>9.244838</td>\n",
              "      <td>549.000000</td>\n",
              "    </tr>\n",
              "  </tbody>\n",
              "</table>\n",
              "</div>"
            ],
            "text/plain": [
              "                ID  time_minute  ...        grade    directors\n",
              "count  1000.000000  1000.000000  ...  1000.000000  1000.000000\n",
              "mean    499.500000   122.250000  ...     5.475654   269.067000\n",
              "std     288.819436    27.871856  ...     1.724042   158.129363\n",
              "min       0.000000    45.000000  ...     0.014822     0.000000\n",
              "25%     249.750000   102.000000  ...     4.474390   134.000000\n",
              "50%     499.500000   119.000000  ...     5.500000   268.000000\n",
              "75%     749.250000   136.000000  ...     6.547221   401.250000\n",
              "max     999.000000   321.000000  ...     9.244838   549.000000\n",
              "\n",
              "[8 rows x 6 columns]"
            ]
          },
          "metadata": {
            "tags": []
          },
          "execution_count": 5
        }
      ]
    },
    {
      "cell_type": "markdown",
      "metadata": {
        "id": "C7X2jsrzWe-Y"
      },
      "source": [
        "Both dataset have the same number of rows and id which expected to be unique. The column 'time_minute' and 'year' are also identical. It can be said that we can combine these two dataset with the three identical column: id, time_minute and year."
      ]
    },
    {
      "cell_type": "code",
      "metadata": {
        "colab": {
          "base_uri": "https://localhost:8080/",
          "height": 206
        },
        "id": "jN6hMLZOvYfx",
        "outputId": "a8675128-f966-4b18-c083-bb07cf6c0fc2"
      },
      "source": [
        "# merge two dataset\n",
        "df_final = movies_budgets.merge(movies_scores, how='inner', left_on=['ID','movie','time_minute','year'], right_on=['ID','movie','time_minute','year'])\n",
        "df_final.head()"
      ],
      "execution_count": 6,
      "outputs": [
        {
          "output_type": "execute_result",
          "data": {
            "text/html": [
              "<div>\n",
              "<style scoped>\n",
              "    .dataframe tbody tr th:only-of-type {\n",
              "        vertical-align: middle;\n",
              "    }\n",
              "\n",
              "    .dataframe tbody tr th {\n",
              "        vertical-align: top;\n",
              "    }\n",
              "\n",
              "    .dataframe thead th {\n",
              "        text-align: right;\n",
              "    }\n",
              "</style>\n",
              "<table border=\"1\" class=\"dataframe\">\n",
              "  <thead>\n",
              "    <tr style=\"text-align: right;\">\n",
              "      <th></th>\n",
              "      <th>ID</th>\n",
              "      <th>movie</th>\n",
              "      <th>budget</th>\n",
              "      <th>num_employees</th>\n",
              "      <th>time_minute</th>\n",
              "      <th>year</th>\n",
              "      <th>num_actors</th>\n",
              "      <th>vote</th>\n",
              "      <th>grade</th>\n",
              "      <th>directors</th>\n",
              "    </tr>\n",
              "  </thead>\n",
              "  <tbody>\n",
              "    <tr>\n",
              "      <th>0</th>\n",
              "      <td>0</td>\n",
              "      <td>Joker</td>\n",
              "      <td>1.252633e+07</td>\n",
              "      <td>62</td>\n",
              "      <td>122</td>\n",
              "      <td>2019</td>\n",
              "      <td>13</td>\n",
              "      <td>808270</td>\n",
              "      <td>2.683119</td>\n",
              "      <td>168</td>\n",
              "    </tr>\n",
              "    <tr>\n",
              "      <th>1</th>\n",
              "      <td>1</td>\n",
              "      <td>Parasite</td>\n",
              "      <td>9.034395e+07</td>\n",
              "      <td>80</td>\n",
              "      <td>132</td>\n",
              "      <td>2019</td>\n",
              "      <td>5</td>\n",
              "      <td>426750</td>\n",
              "      <td>8.495495</td>\n",
              "      <td>527</td>\n",
              "    </tr>\n",
              "    <tr>\n",
              "      <th>2</th>\n",
              "      <td>2</td>\n",
              "      <td>Knives Out</td>\n",
              "      <td>4.833149e+07</td>\n",
              "      <td>50</td>\n",
              "      <td>130</td>\n",
              "      <td>2019</td>\n",
              "      <td>12</td>\n",
              "      <td>319809</td>\n",
              "      <td>6.045874</td>\n",
              "      <td>493</td>\n",
              "    </tr>\n",
              "    <tr>\n",
              "      <th>3</th>\n",
              "      <td>3</td>\n",
              "      <td>Once Upon a Time... in Hollywood</td>\n",
              "      <td>5.024064e+07</td>\n",
              "      <td>89</td>\n",
              "      <td>161</td>\n",
              "      <td>2019</td>\n",
              "      <td>16</td>\n",
              "      <td>478002</td>\n",
              "      <td>6.211508</td>\n",
              "      <td>534</td>\n",
              "    </tr>\n",
              "    <tr>\n",
              "      <th>4</th>\n",
              "      <td>4</td>\n",
              "      <td>The Gentlemen</td>\n",
              "      <td>6.649767e+06</td>\n",
              "      <td>94</td>\n",
              "      <td>113</td>\n",
              "      <td>2019</td>\n",
              "      <td>9</td>\n",
              "      <td>146955</td>\n",
              "      <td>1.742737</td>\n",
              "      <td>299</td>\n",
              "    </tr>\n",
              "  </tbody>\n",
              "</table>\n",
              "</div>"
            ],
            "text/plain": [
              "   ID                             movie  ...     grade  directors\n",
              "0   0                             Joker  ...  2.683119        168\n",
              "1   1                          Parasite  ...  8.495495        527\n",
              "2   2                        Knives Out  ...  6.045874        493\n",
              "3   3  Once Upon a Time... in Hollywood  ...  6.211508        534\n",
              "4   4                     The Gentlemen  ...  1.742737        299\n",
              "\n",
              "[5 rows x 10 columns]"
            ]
          },
          "metadata": {
            "tags": []
          },
          "execution_count": 6
        }
      ]
    },
    {
      "cell_type": "markdown",
      "metadata": {
        "id": "DEJDBBVjXfaq"
      },
      "source": [
        "Check again"
      ]
    },
    {
      "cell_type": "code",
      "metadata": {
        "colab": {
          "base_uri": "https://localhost:8080/",
          "height": 300
        },
        "id": "usbnJoFav5Zb",
        "outputId": "fffb7a58-33f7-4284-a114-565284da5f57"
      },
      "source": [
        "df_final.describe()"
      ],
      "execution_count": 7,
      "outputs": [
        {
          "output_type": "execute_result",
          "data": {
            "text/html": [
              "<div>\n",
              "<style scoped>\n",
              "    .dataframe tbody tr th:only-of-type {\n",
              "        vertical-align: middle;\n",
              "    }\n",
              "\n",
              "    .dataframe tbody tr th {\n",
              "        vertical-align: top;\n",
              "    }\n",
              "\n",
              "    .dataframe thead th {\n",
              "        text-align: right;\n",
              "    }\n",
              "</style>\n",
              "<table border=\"1\" class=\"dataframe\">\n",
              "  <thead>\n",
              "    <tr style=\"text-align: right;\">\n",
              "      <th></th>\n",
              "      <th>ID</th>\n",
              "      <th>budget</th>\n",
              "      <th>num_employees</th>\n",
              "      <th>time_minute</th>\n",
              "      <th>year</th>\n",
              "      <th>num_actors</th>\n",
              "      <th>vote</th>\n",
              "      <th>grade</th>\n",
              "      <th>directors</th>\n",
              "    </tr>\n",
              "  </thead>\n",
              "  <tbody>\n",
              "    <tr>\n",
              "      <th>count</th>\n",
              "      <td>1000.000000</td>\n",
              "      <td>1.000000e+03</td>\n",
              "      <td>1000.000000</td>\n",
              "      <td>1000.000000</td>\n",
              "      <td>1000.000000</td>\n",
              "      <td>1000.000000</td>\n",
              "      <td>1.000000e+03</td>\n",
              "      <td>1000.000000</td>\n",
              "      <td>1000.000000</td>\n",
              "    </tr>\n",
              "    <tr>\n",
              "      <th>mean</th>\n",
              "      <td>499.500000</td>\n",
              "      <td>4.418983e+07</td>\n",
              "      <td>69.928000</td>\n",
              "      <td>122.250000</td>\n",
              "      <td>1991.013000</td>\n",
              "      <td>11.935000</td>\n",
              "      <td>2.659911e+05</td>\n",
              "      <td>5.475654</td>\n",
              "      <td>269.067000</td>\n",
              "    </tr>\n",
              "    <tr>\n",
              "      <th>std</th>\n",
              "      <td>288.819436</td>\n",
              "      <td>2.214552e+07</td>\n",
              "      <td>28.400059</td>\n",
              "      <td>27.871856</td>\n",
              "      <td>23.059587</td>\n",
              "      <td>4.434009</td>\n",
              "      <td>3.144706e+05</td>\n",
              "      <td>1.724042</td>\n",
              "      <td>158.129363</td>\n",
              "    </tr>\n",
              "    <tr>\n",
              "      <th>min</th>\n",
              "      <td>0.000000</td>\n",
              "      <td>3.439503e+05</td>\n",
              "      <td>20.000000</td>\n",
              "      <td>45.000000</td>\n",
              "      <td>1920.000000</td>\n",
              "      <td>5.000000</td>\n",
              "      <td>2.518200e+04</td>\n",
              "      <td>0.014822</td>\n",
              "      <td>0.000000</td>\n",
              "    </tr>\n",
              "    <tr>\n",
              "      <th>25%</th>\n",
              "      <td>249.750000</td>\n",
              "      <td>2.933318e+07</td>\n",
              "      <td>47.000000</td>\n",
              "      <td>102.000000</td>\n",
              "      <td>1976.000000</td>\n",
              "      <td>8.000000</td>\n",
              "      <td>5.442525e+04</td>\n",
              "      <td>4.474390</td>\n",
              "      <td>134.000000</td>\n",
              "    </tr>\n",
              "    <tr>\n",
              "      <th>50%</th>\n",
              "      <td>499.500000</td>\n",
              "      <td>4.152462e+07</td>\n",
              "      <td>69.000000</td>\n",
              "      <td>119.000000</td>\n",
              "      <td>1998.500000</td>\n",
              "      <td>12.000000</td>\n",
              "      <td>1.368875e+05</td>\n",
              "      <td>5.500000</td>\n",
              "      <td>268.000000</td>\n",
              "    </tr>\n",
              "    <tr>\n",
              "      <th>75%</th>\n",
              "      <td>749.250000</td>\n",
              "      <td>5.615621e+07</td>\n",
              "      <td>95.000000</td>\n",
              "      <td>136.000000</td>\n",
              "      <td>2009.000000</td>\n",
              "      <td>16.000000</td>\n",
              "      <td>3.631140e+05</td>\n",
              "      <td>6.547221</td>\n",
              "      <td>401.250000</td>\n",
              "    </tr>\n",
              "    <tr>\n",
              "      <th>max</th>\n",
              "      <td>999.000000</td>\n",
              "      <td>1.058777e+08</td>\n",
              "      <td>119.000000</td>\n",
              "      <td>321.000000</td>\n",
              "      <td>2019.000000</td>\n",
              "      <td>19.000000</td>\n",
              "      <td>2.250445e+06</td>\n",
              "      <td>9.244838</td>\n",
              "      <td>549.000000</td>\n",
              "    </tr>\n",
              "  </tbody>\n",
              "</table>\n",
              "</div>"
            ],
            "text/plain": [
              "                ID        budget  ...        grade    directors\n",
              "count  1000.000000  1.000000e+03  ...  1000.000000  1000.000000\n",
              "mean    499.500000  4.418983e+07  ...     5.475654   269.067000\n",
              "std     288.819436  2.214552e+07  ...     1.724042   158.129363\n",
              "min       0.000000  3.439503e+05  ...     0.014822     0.000000\n",
              "25%     249.750000  2.933318e+07  ...     4.474390   134.000000\n",
              "50%     499.500000  4.152462e+07  ...     5.500000   268.000000\n",
              "75%     749.250000  5.615621e+07  ...     6.547221   401.250000\n",
              "max     999.000000  1.058777e+08  ...     9.244838   549.000000\n",
              "\n",
              "[8 rows x 9 columns]"
            ]
          },
          "metadata": {
            "tags": []
          },
          "execution_count": 7
        }
      ]
    },
    {
      "cell_type": "code",
      "metadata": {
        "id": "UI0A8Wj0un_Z"
      },
      "source": [
        ""
      ],
      "execution_count": 7,
      "outputs": []
    },
    {
      "cell_type": "markdown",
      "metadata": {
        "id": "QMY_NrAPzckj"
      },
      "source": [
        "## 1. Quality of movies per time window"
      ]
    },
    {
      "cell_type": "markdown",
      "metadata": {
        "id": "fi7dg3YAG5_T"
      },
      "source": [
        "a. Which year was the year with the best movies (taking all movies into account that year).\n",
        "\n",
        "\n",
        "> Assuming a highest grade represents the best year for movies. As there are several movies in a year, averaging movies grade of the year represents the quality of the movies in a year.\n",
        "\n"
      ]
    },
    {
      "cell_type": "code",
      "metadata": {
        "colab": {
          "base_uri": "https://localhost:8080/",
          "height": 223
        },
        "id": "r1sNd2CBynzy",
        "outputId": "b5c1228e-7dd6-424f-bc31-3f4992da798f"
      },
      "source": [
        "# create dataframe for the average grade of each year\n",
        "df_q1_a = df_final.groupby(['year']).agg({'grade': 'mean'}).sort_values(['grade'],ascending=False).reset_index()\n",
        "print('The Quality of the movies each year are as in the following table:')\n",
        "df_q1_a.head()"
      ],
      "execution_count": 8,
      "outputs": [
        {
          "output_type": "stream",
          "text": [
            "The Quality of the movies each year are as in the following table:\n"
          ],
          "name": "stdout"
        },
        {
          "output_type": "execute_result",
          "data": {
            "text/html": [
              "<div>\n",
              "<style scoped>\n",
              "    .dataframe tbody tr th:only-of-type {\n",
              "        vertical-align: middle;\n",
              "    }\n",
              "\n",
              "    .dataframe tbody tr th {\n",
              "        vertical-align: top;\n",
              "    }\n",
              "\n",
              "    .dataframe thead th {\n",
              "        text-align: right;\n",
              "    }\n",
              "</style>\n",
              "<table border=\"1\" class=\"dataframe\">\n",
              "  <thead>\n",
              "    <tr style=\"text-align: right;\">\n",
              "      <th></th>\n",
              "      <th>year</th>\n",
              "      <th>grade</th>\n",
              "    </tr>\n",
              "  </thead>\n",
              "  <tbody>\n",
              "    <tr>\n",
              "      <th>0</th>\n",
              "      <td>1941</td>\n",
              "      <td>8.870166</td>\n",
              "    </tr>\n",
              "    <tr>\n",
              "      <th>1</th>\n",
              "      <td>1936</td>\n",
              "      <td>8.495495</td>\n",
              "    </tr>\n",
              "    <tr>\n",
              "      <th>2</th>\n",
              "      <td>1943</td>\n",
              "      <td>8.128815</td>\n",
              "    </tr>\n",
              "    <tr>\n",
              "      <th>3</th>\n",
              "      <td>1942</td>\n",
              "      <td>7.981056</td>\n",
              "    </tr>\n",
              "    <tr>\n",
              "      <th>4</th>\n",
              "      <td>1930</td>\n",
              "      <td>7.589008</td>\n",
              "    </tr>\n",
              "  </tbody>\n",
              "</table>\n",
              "</div>"
            ],
            "text/plain": [
              "   year     grade\n",
              "0  1941  8.870166\n",
              "1  1936  8.495495\n",
              "2  1943  8.128815\n",
              "3  1942  7.981056\n",
              "4  1930  7.589008"
            ]
          },
          "metadata": {
            "tags": []
          },
          "execution_count": 8
        }
      ]
    },
    {
      "cell_type": "code",
      "metadata": {
        "colab": {
          "base_uri": "https://localhost:8080/"
        },
        "id": "x-IPckz5v2rI",
        "outputId": "09117cab-ad26-4bf1-b51e-a1a76ad5985b"
      },
      "source": [
        "# select the year with the highest grade\n",
        "q1_a = df_q1_a.head(1)['year'][0]\n",
        "print('The',q1_a,'was the year with the best movies.')"
      ],
      "execution_count": 9,
      "outputs": [
        {
          "output_type": "stream",
          "text": [
            "The 1941 was the year with the best movies.\n"
          ],
          "name": "stdout"
        }
      ]
    },
    {
      "cell_type": "markdown",
      "metadata": {
        "id": "JjrbR1CvG961"
      },
      "source": [
        "b. Please provide a sorted list of all the years by their quality and top 5.\n",
        "\n",
        "\n",
        "> Sort the year according to the average quality (grade) from the highest to the lowest. Then show the top 5 movies of each year.\n",
        "\n",
        "Note that some of the year have less than 5 movies in the dataset.\n",
        "\n"
      ]
    },
    {
      "cell_type": "code",
      "metadata": {
        "id": "_0OuRo3609oi"
      },
      "source": [
        "# create dataframe with sorted average grade of the year\n",
        "df_q1_b = df_final.groupby(['year']).agg({'grade': 'mean'}).sort_values(['grade'],ascending=False).reset_index()\n",
        "# find the unique sorted year \n",
        "year = df_q1_b['year'].unique()\n",
        "\n",
        "# create dataframe of top 5 of each year\n",
        "top_5 = df_final.groupby('year').apply(lambda x: x.sort_values(by='grade',ascending=False).head(5)).reset_index(drop=True)\n",
        "\n",
        "# create dict to keep sorted year and top5\n",
        "top5 = defaultdict(list)\n",
        "# add both year and top 5\n",
        "for i in range(len(year)):\n",
        "  for j in range(len(top_5)):\n",
        "    if year[i] == top_5['year'][j]:\n",
        "      top5[year[i]].append(top_5['movie'][j])"
      ],
      "execution_count": 10,
      "outputs": []
    },
    {
      "cell_type": "code",
      "metadata": {
        "colab": {
          "base_uri": "https://localhost:8080/",
          "height": 423
        },
        "id": "kfcqzFn1v-r2",
        "outputId": "0abf81b5-3b0a-4645-be0f-0271677e31d8"
      },
      "source": [
        "# create dataframe of sorted year and top5\n",
        "df_top5 = pd.DataFrame(top5.items(), columns=['Year', 'Top 5 Movies'])\n",
        "# remove [] from each year of top5 column\n",
        "df_top5['Top 5 Movies'] = df_top5['Top 5 Movies'].str.join(',')\n",
        "q1_b = df_top5 \n",
        "q1_b"
      ],
      "execution_count": 11,
      "outputs": [
        {
          "output_type": "execute_result",
          "data": {
            "text/html": [
              "<div>\n",
              "<style scoped>\n",
              "    .dataframe tbody tr th:only-of-type {\n",
              "        vertical-align: middle;\n",
              "    }\n",
              "\n",
              "    .dataframe tbody tr th {\n",
              "        vertical-align: top;\n",
              "    }\n",
              "\n",
              "    .dataframe thead th {\n",
              "        text-align: right;\n",
              "    }\n",
              "</style>\n",
              "<table border=\"1\" class=\"dataframe\">\n",
              "  <thead>\n",
              "    <tr style=\"text-align: right;\">\n",
              "      <th></th>\n",
              "      <th>Year</th>\n",
              "      <th>Top 5 Movies</th>\n",
              "    </tr>\n",
              "  </thead>\n",
              "  <tbody>\n",
              "    <tr>\n",
              "      <th>0</th>\n",
              "      <td>1941</td>\n",
              "      <td>Citizen Kane,The Maltese Falcon</td>\n",
              "    </tr>\n",
              "    <tr>\n",
              "      <th>1</th>\n",
              "      <td>1936</td>\n",
              "      <td>Modern Times</td>\n",
              "    </tr>\n",
              "    <tr>\n",
              "      <th>2</th>\n",
              "      <td>1943</td>\n",
              "      <td>Shadow of a Doubt</td>\n",
              "    </tr>\n",
              "    <tr>\n",
              "      <th>3</th>\n",
              "      <td>1942</td>\n",
              "      <td>Casablanca,To Be or Not to Be</td>\n",
              "    </tr>\n",
              "    <tr>\n",
              "      <th>4</th>\n",
              "      <td>1930</td>\n",
              "      <td>All Quiet on the Western Front</td>\n",
              "    </tr>\n",
              "    <tr>\n",
              "      <th>...</th>\n",
              "      <td>...</td>\n",
              "      <td>...</td>\n",
              "    </tr>\n",
              "    <tr>\n",
              "      <th>93</th>\n",
              "      <td>1987</td>\n",
              "      <td>Withnail &amp; I,The Untouchables,Wings of Desire,...</td>\n",
              "    </tr>\n",
              "    <tr>\n",
              "      <th>94</th>\n",
              "      <td>1997</td>\n",
              "      <td>L.A. Confidential,Boogie Nights,Knockin' on He...</td>\n",
              "    </tr>\n",
              "    <tr>\n",
              "      <th>95</th>\n",
              "      <td>2004</td>\n",
              "      <td>The Incredibles,Before Sunset,Eternal Sunshine...</td>\n",
              "    </tr>\n",
              "    <tr>\n",
              "      <th>96</th>\n",
              "      <td>2003</td>\n",
              "      <td>The Lord of the Rings: The Return of the King,...</td>\n",
              "    </tr>\n",
              "    <tr>\n",
              "      <th>97</th>\n",
              "      <td>1990</td>\n",
              "      <td>Goodfellas,Misery,Edward Scissorhands,Awakenin...</td>\n",
              "    </tr>\n",
              "  </tbody>\n",
              "</table>\n",
              "<p>98 rows × 2 columns</p>\n",
              "</div>"
            ],
            "text/plain": [
              "    Year                                       Top 5 Movies\n",
              "0   1941                    Citizen Kane,The Maltese Falcon\n",
              "1   1936                                       Modern Times\n",
              "2   1943                                  Shadow of a Doubt\n",
              "3   1942                      Casablanca,To Be or Not to Be\n",
              "4   1930                     All Quiet on the Western Front\n",
              "..   ...                                                ...\n",
              "93  1987  Withnail & I,The Untouchables,Wings of Desire,...\n",
              "94  1997  L.A. Confidential,Boogie Nights,Knockin' on He...\n",
              "95  2004  The Incredibles,Before Sunset,Eternal Sunshine...\n",
              "96  2003  The Lord of the Rings: The Return of the King,...\n",
              "97  1990  Goodfellas,Misery,Edward Scissorhands,Awakenin...\n",
              "\n",
              "[98 rows x 2 columns]"
            ]
          },
          "metadata": {
            "tags": []
          },
          "execution_count": 11
        }
      ]
    },
    {
      "cell_type": "markdown",
      "metadata": {
        "id": "Q1VaG9b-G9-R"
      },
      "source": [
        "c. Which decade was the best?\n",
        "\n",
        "\n",
        "> create a decade column then find the higest average grade for each decade which is the best.\n",
        "\n"
      ]
    },
    {
      "cell_type": "code",
      "metadata": {
        "colab": {
          "base_uri": "https://localhost:8080/"
        },
        "id": "ewVHKIb44TFp",
        "outputId": "62a6beb0-046c-4500-9653-d04909bc8b93"
      },
      "source": [
        "# create decade column\n",
        "df_final['decade'] = np.ceil(df_final['year']/10)\n",
        "# highest average grade of the decade \n",
        "q1_c = df_final.groupby(['decade']).agg({'grade': 'mean'}).sort_values(['grade'],ascending=False).head(1).reset_index()['decade'][0]\n",
        "print('The decade with the best movie was in',q1_c)"
      ],
      "execution_count": 12,
      "outputs": [
        {
          "output_type": "stream",
          "text": [
            "The decade with the best movie was in 194.0\n"
          ],
          "name": "stdout"
        }
      ]
    },
    {
      "cell_type": "markdown",
      "metadata": {
        "id": "WGXosd-pGsDc"
      },
      "source": [
        "## 2. Directors"
      ]
    },
    {
      "cell_type": "markdown",
      "metadata": {
        "id": "xawa6VR1GyXs"
      },
      "source": [
        "a. Find top 5 directors who directed the best quality movies (by their movie grades)."
      ]
    },
    {
      "cell_type": "code",
      "metadata": {
        "colab": {
          "base_uri": "https://localhost:8080/"
        },
        "id": "Ae5FGFMP-7Dc",
        "outputId": "fe8837f8-21ce-4abb-a441-4fa8cce8148f"
      },
      "source": [
        "# create dataframe for highest grade for each director and choose only 5\n",
        "df_q2_a = df_final.groupby(['directors']).agg({'grade': 'max'}).sort_values(['grade'],ascending=False).head(5).reset_index()\n",
        "# make into list\n",
        "q2_a = list(df_q2_a['directors'][0:])\n",
        "print('The top 5 directors who directed the best quality movies are',*q2_a, sep=' ')"
      ],
      "execution_count": 13,
      "outputs": [
        {
          "output_type": "stream",
          "text": [
            "The top 5 directors who directed the best quality movies are 17 124 392 6 395\n"
          ],
          "name": "stdout"
        }
      ]
    },
    {
      "cell_type": "markdown",
      "metadata": {
        "id": "eclEV4GWcyQn"
      },
      "source": [
        "The top 5 directors in dataframe"
      ]
    },
    {
      "cell_type": "code",
      "metadata": {
        "colab": {
          "base_uri": "https://localhost:8080/",
          "height": 206
        },
        "id": "WPW-MrcPJIch",
        "outputId": "b3a9601a-9ec4-4516-9e16-9eaa7b01be0e"
      },
      "source": [
        "top5_directors = df_q2_a[['directors']]\n",
        "top5_directors"
      ],
      "execution_count": 14,
      "outputs": [
        {
          "output_type": "execute_result",
          "data": {
            "text/html": [
              "<div>\n",
              "<style scoped>\n",
              "    .dataframe tbody tr th:only-of-type {\n",
              "        vertical-align: middle;\n",
              "    }\n",
              "\n",
              "    .dataframe tbody tr th {\n",
              "        vertical-align: top;\n",
              "    }\n",
              "\n",
              "    .dataframe thead th {\n",
              "        text-align: right;\n",
              "    }\n",
              "</style>\n",
              "<table border=\"1\" class=\"dataframe\">\n",
              "  <thead>\n",
              "    <tr style=\"text-align: right;\">\n",
              "      <th></th>\n",
              "      <th>directors</th>\n",
              "    </tr>\n",
              "  </thead>\n",
              "  <tbody>\n",
              "    <tr>\n",
              "      <th>0</th>\n",
              "      <td>17</td>\n",
              "    </tr>\n",
              "    <tr>\n",
              "      <th>1</th>\n",
              "      <td>124</td>\n",
              "    </tr>\n",
              "    <tr>\n",
              "      <th>2</th>\n",
              "      <td>392</td>\n",
              "    </tr>\n",
              "    <tr>\n",
              "      <th>3</th>\n",
              "      <td>6</td>\n",
              "    </tr>\n",
              "    <tr>\n",
              "      <th>4</th>\n",
              "      <td>395</td>\n",
              "    </tr>\n",
              "  </tbody>\n",
              "</table>\n",
              "</div>"
            ],
            "text/plain": [
              "   directors\n",
              "0         17\n",
              "1        124\n",
              "2        392\n",
              "3          6\n",
              "4        395"
            ]
          },
          "metadata": {
            "tags": []
          },
          "execution_count": 14
        }
      ]
    },
    {
      "cell_type": "markdown",
      "metadata": {
        "id": "kDiwR6sPc3Le"
      },
      "source": [
        "The average grade of all movies is"
      ]
    },
    {
      "cell_type": "code",
      "metadata": {
        "colab": {
          "base_uri": "https://localhost:8080/"
        },
        "id": "gBwqYdIVcdUN",
        "outputId": "280e9197-3c5c-4ac3-9725-8ada0e8eda82"
      },
      "source": [
        "grade_mean = df_final['grade'].mean()\n",
        "grade_mean"
      ],
      "execution_count": 15,
      "outputs": [
        {
          "output_type": "execute_result",
          "data": {
            "text/plain": [
              "5.475653883764269"
            ]
          },
          "metadata": {
            "tags": []
          },
          "execution_count": 15
        }
      ]
    },
    {
      "cell_type": "markdown",
      "metadata": {
        "id": "Pvhh1H-IG3F9"
      },
      "source": [
        "b. Choose 2 or 3 of them as options that you would recommend to work with, why \n",
        "\n",
        "---\n",
        "\n",
        "did you choose those?"
      ]
    },
    {
      "cell_type": "code",
      "metadata": {
        "colab": {
          "base_uri": "https://localhost:8080/",
          "height": 143
        },
        "id": "9SZ62wZm_cnt",
        "outputId": "a0a42c33-4e74-46a6-f941-7b25dbe58a27"
      },
      "source": [
        "# see the overall performance of director and select the minnimun grade of the movie\n",
        "q2_b = df_final.groupby(['directors']).agg({'grade': ['max','mean','min']})['grade'][['min']].reset_index()\n",
        "# select top 3 directors whose minimum grade movie never lower than the grade average of all movies in the industry   \n",
        "q2_b = q2_b[q2_b['min'] > grade_mean].merge(top5_directors, how='inner', left_on=['directors'], right_on=['directors'])\n",
        "q2_b"
      ],
      "execution_count": 16,
      "outputs": [
        {
          "output_type": "execute_result",
          "data": {
            "text/html": [
              "<div>\n",
              "<style scoped>\n",
              "    .dataframe tbody tr th:only-of-type {\n",
              "        vertical-align: middle;\n",
              "    }\n",
              "\n",
              "    .dataframe tbody tr th {\n",
              "        vertical-align: top;\n",
              "    }\n",
              "\n",
              "    .dataframe thead th {\n",
              "        text-align: right;\n",
              "    }\n",
              "</style>\n",
              "<table border=\"1\" class=\"dataframe\">\n",
              "  <thead>\n",
              "    <tr style=\"text-align: right;\">\n",
              "      <th></th>\n",
              "      <th>directors</th>\n",
              "      <th>min</th>\n",
              "    </tr>\n",
              "  </thead>\n",
              "  <tbody>\n",
              "    <tr>\n",
              "      <th>0</th>\n",
              "      <td>17</td>\n",
              "      <td>9.244838</td>\n",
              "    </tr>\n",
              "    <tr>\n",
              "      <th>1</th>\n",
              "      <td>124</td>\n",
              "      <td>8.495495</td>\n",
              "    </tr>\n",
              "    <tr>\n",
              "      <th>2</th>\n",
              "      <td>395</td>\n",
              "      <td>5.558019</td>\n",
              "    </tr>\n",
              "  </tbody>\n",
              "</table>\n",
              "</div>"
            ],
            "text/plain": [
              "   directors       min\n",
              "0         17  9.244838\n",
              "1        124  8.495495\n",
              "2        395  5.558019"
            ]
          },
          "metadata": {
            "tags": []
          },
          "execution_count": 16
        }
      ]
    },
    {
      "cell_type": "markdown",
      "metadata": {
        "id": "egwoYPqXdA5F"
      },
      "source": [
        "I would recommend the directors 17, 124 and 395 as three of them never produce movies that is lower than average grade and their minimum grade is also higher while the rest two directors have lower than average garde movies."
      ]
    },
    {
      "cell_type": "markdown",
      "metadata": {
        "id": "f4Ap7FTxHXxu"
      },
      "source": [
        "## 3. Budget and profits"
      ]
    },
    {
      "cell_type": "markdown",
      "metadata": {
        "id": "nfdozpYGHcLP"
      },
      "source": [
        "Load the budget table.\n",
        "\n",
        "In general, would you say a lot of employees correlate significantly to more expensive (cost of creating a movie = budget) movies (no need for deep analysis, just an explanation/graph would be enough).\n"
      ]
    },
    {
      "cell_type": "code",
      "metadata": {
        "colab": {
          "base_uri": "https://localhost:8080/",
          "height": 206
        },
        "id": "8SXp-JYr9jFP",
        "outputId": "93ad2312-0b75-4f34-c5e5-8f147ce448fe"
      },
      "source": [
        "df_final.head()"
      ],
      "execution_count": 17,
      "outputs": [
        {
          "output_type": "execute_result",
          "data": {
            "text/html": [
              "<div>\n",
              "<style scoped>\n",
              "    .dataframe tbody tr th:only-of-type {\n",
              "        vertical-align: middle;\n",
              "    }\n",
              "\n",
              "    .dataframe tbody tr th {\n",
              "        vertical-align: top;\n",
              "    }\n",
              "\n",
              "    .dataframe thead th {\n",
              "        text-align: right;\n",
              "    }\n",
              "</style>\n",
              "<table border=\"1\" class=\"dataframe\">\n",
              "  <thead>\n",
              "    <tr style=\"text-align: right;\">\n",
              "      <th></th>\n",
              "      <th>ID</th>\n",
              "      <th>movie</th>\n",
              "      <th>budget</th>\n",
              "      <th>num_employees</th>\n",
              "      <th>time_minute</th>\n",
              "      <th>year</th>\n",
              "      <th>num_actors</th>\n",
              "      <th>vote</th>\n",
              "      <th>grade</th>\n",
              "      <th>directors</th>\n",
              "      <th>decade</th>\n",
              "    </tr>\n",
              "  </thead>\n",
              "  <tbody>\n",
              "    <tr>\n",
              "      <th>0</th>\n",
              "      <td>0</td>\n",
              "      <td>Joker</td>\n",
              "      <td>1.252633e+07</td>\n",
              "      <td>62</td>\n",
              "      <td>122</td>\n",
              "      <td>2019</td>\n",
              "      <td>13</td>\n",
              "      <td>808270</td>\n",
              "      <td>2.683119</td>\n",
              "      <td>168</td>\n",
              "      <td>202.0</td>\n",
              "    </tr>\n",
              "    <tr>\n",
              "      <th>1</th>\n",
              "      <td>1</td>\n",
              "      <td>Parasite</td>\n",
              "      <td>9.034395e+07</td>\n",
              "      <td>80</td>\n",
              "      <td>132</td>\n",
              "      <td>2019</td>\n",
              "      <td>5</td>\n",
              "      <td>426750</td>\n",
              "      <td>8.495495</td>\n",
              "      <td>527</td>\n",
              "      <td>202.0</td>\n",
              "    </tr>\n",
              "    <tr>\n",
              "      <th>2</th>\n",
              "      <td>2</td>\n",
              "      <td>Knives Out</td>\n",
              "      <td>4.833149e+07</td>\n",
              "      <td>50</td>\n",
              "      <td>130</td>\n",
              "      <td>2019</td>\n",
              "      <td>12</td>\n",
              "      <td>319809</td>\n",
              "      <td>6.045874</td>\n",
              "      <td>493</td>\n",
              "      <td>202.0</td>\n",
              "    </tr>\n",
              "    <tr>\n",
              "      <th>3</th>\n",
              "      <td>3</td>\n",
              "      <td>Once Upon a Time... in Hollywood</td>\n",
              "      <td>5.024064e+07</td>\n",
              "      <td>89</td>\n",
              "      <td>161</td>\n",
              "      <td>2019</td>\n",
              "      <td>16</td>\n",
              "      <td>478002</td>\n",
              "      <td>6.211508</td>\n",
              "      <td>534</td>\n",
              "      <td>202.0</td>\n",
              "    </tr>\n",
              "    <tr>\n",
              "      <th>4</th>\n",
              "      <td>4</td>\n",
              "      <td>The Gentlemen</td>\n",
              "      <td>6.649767e+06</td>\n",
              "      <td>94</td>\n",
              "      <td>113</td>\n",
              "      <td>2019</td>\n",
              "      <td>9</td>\n",
              "      <td>146955</td>\n",
              "      <td>1.742737</td>\n",
              "      <td>299</td>\n",
              "      <td>202.0</td>\n",
              "    </tr>\n",
              "  </tbody>\n",
              "</table>\n",
              "</div>"
            ],
            "text/plain": [
              "   ID                             movie  ...  directors  decade\n",
              "0   0                             Joker  ...        168   202.0\n",
              "1   1                          Parasite  ...        527   202.0\n",
              "2   2                        Knives Out  ...        493   202.0\n",
              "3   3  Once Upon a Time... in Hollywood  ...        534   202.0\n",
              "4   4                     The Gentlemen  ...        299   202.0\n",
              "\n",
              "[5 rows x 11 columns]"
            ]
          },
          "metadata": {
            "tags": []
          },
          "execution_count": 17
        }
      ]
    },
    {
      "cell_type": "markdown",
      "metadata": {
        "id": "IVtrD5rjm3S5"
      },
      "source": [
        "**Relationship between number of employee and budget**"
      ]
    },
    {
      "cell_type": "code",
      "metadata": {
        "colab": {
          "base_uri": "https://localhost:8080/",
          "height": 309
        },
        "id": "7YaQT3-eLCU_",
        "outputId": "ad333680-813c-468d-9c6a-d78caac34f2e"
      },
      "source": [
        "# Scatterplot\n",
        "df_final.plot.scatter('num_employees','budget')"
      ],
      "execution_count": 18,
      "outputs": [
        {
          "output_type": "execute_result",
          "data": {
            "text/plain": [
              "<matplotlib.axes._subplots.AxesSubplot at 0x7fe137423e90>"
            ]
          },
          "metadata": {
            "tags": []
          },
          "execution_count": 18
        },
        {
          "output_type": "display_data",
          "data": {
            "image/png": "[encoded data removed]",
            "text/plain": [
              "<Figure size 432x288 with 1 Axes>"
            ]
          },
          "metadata": {
            "tags": [],
            "needs_background": "light"
          }
        }
      ]
    },
    {
      "cell_type": "markdown",
      "metadata": {
        "id": "XDHspWYaMOGb"
      },
      "source": [
        "> In general the more number of employee might lead to higher cost, however, acording to the scatter, the lower number of employee could also lead to higher cost. There is no obvious trend(strong relation) between number of employee and cost, but there is a trend on the straight line that the budget is around 0.4 for most of the movies, while the number of employee varies across the dataset.\n"
      ]
    },
    {
      "cell_type": "markdown",
      "metadata": {
        "id": "ihgKpkmLm_CQ"
      },
      "source": [
        "**Employee and budget distribution**"
      ]
    },
    {
      "cell_type": "code",
      "metadata": {
        "colab": {
          "base_uri": "https://localhost:8080/",
          "height": 335
        },
        "id": "WOEcDcSDLk_F",
        "outputId": "4650bb80-ecc0-4d22-fa0c-555ab8e03e35"
      },
      "source": [
        "# Histogram\n",
        "sns.distplot(df_final['num_employees']) \n",
        "plt.show()"
      ],
      "execution_count": 19,
      "outputs": [
        {
          "output_type": "stream",
          "text": [
            "/usr/local/lib/python3.7/dist-packages/seaborn/distributions.py:2557: FutureWarning: `distplot` is a deprecated function and will be removed in a future version. Please adapt your code to use either `displot` (a figure-level function with similar flexibility) or `histplot` (an axes-level function for histograms).\n",
            "  warnings.warn(msg, FutureWarning)\n"
          ],
          "name": "stderr"
        },
        {
          "output_type": "display_data",
          "data": {
            "image/png": "[encoded data removed]",
            "text/plain": [
              "<Figure size 432x288 with 1 Axes>"
            ]
          },
          "metadata": {
            "tags": [],
            "needs_background": "light"
          }
        }
      ]
    },
    {
      "cell_type": "markdown",
      "metadata": {
        "id": "-g7ZrynRMvsG"
      },
      "source": [
        "The number of employee distributed equally."
      ]
    },
    {
      "cell_type": "code",
      "metadata": {
        "colab": {
          "base_uri": "https://localhost:8080/",
          "height": 345
        },
        "id": "L4JSTTtKLvpT",
        "outputId": "bd1940bb-1efe-44a0-b398-fc939d49a2b1"
      },
      "source": [
        "sns.distplot(df_final['budget']) \n",
        "plt.show()"
      ],
      "execution_count": 20,
      "outputs": [
        {
          "output_type": "stream",
          "text": [
            "/usr/local/lib/python3.7/dist-packages/seaborn/distributions.py:2557: FutureWarning: `distplot` is a deprecated function and will be removed in a future version. Please adapt your code to use either `displot` (a figure-level function with similar flexibility) or `histplot` (an axes-level function for histograms).\n",
            "  warnings.warn(msg, FutureWarning)\n"
          ],
          "name": "stderr"
        },
        {
          "output_type": "display_data",
          "data": {
            "image/png": "[encoded data removed]",
            "text/plain": [
              "<Figure size 432x288 with 1 Axes>"
            ]
          },
          "metadata": {
            "tags": [],
            "needs_background": "light"
          }
        }
      ]
    },
    {
      "cell_type": "markdown",
      "metadata": {
        "id": "yOfT4Ie7MzvU"
      },
      "source": [
        "There is a peak thhat most of the movies use budget at 0.4. We can see this as the minimum budget needed for a movie."
      ]
    },
    {
      "cell_type": "markdown",
      "metadata": {
        "id": "Ib_33_xPQAi3"
      },
      "source": [
        "Assuming it is possible to create a movie with an imaginary grade of 12, how much would it cost to create such a movie? (here you should learn from the existing data).\n",
        "\n",
        "After inspecting data, starting building a model to predict the cost by splitting data into two sets: training set and testing set"
      ]
    },
    {
      "cell_type": "code",
      "metadata": {
        "colab": {
          "base_uri": "https://localhost:8080/"
        },
        "id": "Akkwngoy1Pqy",
        "outputId": "b619fc24-62dd-4bdb-87dc-b8673fe0d466"
      },
      "source": [
        "# build linear regression to predict movie grade 12\n",
        "# predictor X\n",
        "X = np.array([[x] for x in df_final['grade'].values])\n",
        "# Y\n",
        "y = np.array([[x] for x in df_final['budget'].values])\n",
        "# split the data into training/testing sets\n",
        "X_train = X[:-20]\n",
        "X_test = X[-20:]\n",
        "\n",
        "# split the targets into training/testing sets\n",
        "y_train = y[:-20]\n",
        "y_test = y[-20:]\n",
        "\n",
        "# summarize the shape of the training dataset\n",
        "print(X_train.shape, y_train.shape)"
      ],
      "execution_count": 21,
      "outputs": [
        {
          "output_type": "stream",
          "text": [
            "(980, 1) (980, 1)\n"
          ],
          "name": "stdout"
        }
      ]
    },
    {
      "cell_type": "markdown",
      "metadata": {
        "id": "eZ9qjiPd3pFw"
      },
      "source": [
        "Train to model using training set and plot the trained model"
      ]
    },
    {
      "cell_type": "code",
      "metadata": {
        "colab": {
          "base_uri": "https://localhost:8080/",
          "height": 321
        },
        "id": "sxof2ug62cfw",
        "outputId": "558cdf3a-5f41-43b2-9241-bd825f4f78ca"
      },
      "source": [
        "# create linear regression object\n",
        "regr = linear_model.LinearRegression()\n",
        "\n",
        "# train the model using the training sets\n",
        "regr.fit(X_train, y_train)\n",
        "\n",
        "# make predictions using the testing set\n",
        "y_pred = regr.predict(X_test)\n",
        "\n",
        "# the coefficients\n",
        "print('Coefficients: \\n', regr.coef_)\n",
        "# the mean squared error\n",
        "print('Mean squared error: %.2f'\n",
        "      % mean_squared_error(y_test, y_pred))\n",
        "# the coefficient of determination(R-square): 1 is perfect prediction \n",
        "print('Coefficient of determination(R^2): %.2f'\n",
        "      % r2_score(y_test, y_pred))\n",
        "\n",
        "# plot outputs\n",
        "plt.scatter(X_test, y_test,  color='black')\n",
        "plt.plot(X_test, y_pred, color='blue', linewidth=3)\n",
        "\n",
        "plt.xticks(())\n",
        "plt.yticks(())\n",
        "\n",
        "plt.show()"
      ],
      "execution_count": 22,
      "outputs": [
        {
          "output_type": "stream",
          "text": [
            "Coefficients: \n",
            " [[12426984.06775073]]\n",
            "Mean squared error: 8273603113972.23\n",
            "Coefficient of determination(R^2): 0.96\n"
          ],
          "name": "stdout"
        },
        {
          "output_type": "display_data",
          "data": {
            "image/png": "[encoded data removed]",
            "text/plain": [
              "<Figure size 432x288 with 1 Axes>"
            ]
          },
          "metadata": {
            "tags": []
          }
        }
      ]
    },
    {
      "cell_type": "markdown",
      "metadata": {
        "id": "x04hZfrK32p_"
      },
      "source": [
        "As you can see from the graph, the data fall around the line and the R square is high representing the good fit. However, the MSE (mean square error) is quite high and we should reduce it.\n",
        "\n",
        "Let see the train dataset in the plot below."
      ]
    },
    {
      "cell_type": "code",
      "metadata": {
        "colab": {
          "base_uri": "https://localhost:8080/",
          "height": 293
        },
        "id": "MpupzMBN2PU-",
        "outputId": "b7e7aa51-e5cb-49ea-f80e-8270b277668e"
      },
      "source": [
        "fig, ax = plt.subplots()\n",
        "ax.scatter(x = X_train, y = y_train)\n",
        "plt.ylabel('Budget', fontsize=13)\n",
        "plt.xlabel('Grade', fontsize=13)\n",
        "plt.show()"
      ],
      "execution_count": 23,
      "outputs": [
        {
          "output_type": "display_data",
          "data": {
            "image/png": "[encoded data removed]",
            "text/plain": [
              "<Figure size 432x288 with 1 Axes>"
            ]
          },
          "metadata": {
            "tags": [],
            "needs_background": "light"
          }
        }
      ]
    },
    {
      "cell_type": "markdown",
      "metadata": {
        "id": "A3r1zrT54iBo"
      },
      "source": [
        "From the plot, you can see that there are a few datapoint scatter from the line which could be an outlier. So detect and get rid of the outlier to try this model again."
      ]
    },
    {
      "cell_type": "code",
      "metadata": {
        "colab": {
          "base_uri": "https://localhost:8080/"
        },
        "id": "1UvIh2mI2VlX",
        "outputId": "68127dc7-eb2e-480b-ad02-f381a399643d"
      },
      "source": [
        "# identify outliers in the training dataset\n",
        "lof = LocalOutlierFactor()\n",
        "yhat = lof.fit_predict(X_train)\n",
        "# select all rows that are not outliers\n",
        "mask = yhat != -1\n",
        "X_train, y_train = X_train[mask, :], y_train[mask]\n",
        "# summarize the shape of the updated training dataset\n",
        "print(X_train.shape, y_train.shape)"
      ],
      "execution_count": 24,
      "outputs": [
        {
          "output_type": "stream",
          "text": [
            "(923, 1) (923, 1)\n"
          ],
          "name": "stdout"
        }
      ]
    },
    {
      "cell_type": "code",
      "metadata": {
        "colab": {
          "base_uri": "https://localhost:8080/",
          "height": 321
        },
        "id": "AfvMH_Du3AFz",
        "outputId": "60a883e2-f2d0-4602-bb99-e934703daaa4"
      },
      "source": [
        "# create linear regression object\n",
        "regr = linear_model.LinearRegression()\n",
        "\n",
        "# train the model using the training sets\n",
        "regr.fit(X_train, y_train)\n",
        "\n",
        "# make predictions using the testing set\n",
        "y_pred = regr.predict(X_test)\n",
        "\n",
        "# the coefficients\n",
        "print('Coefficients: \\n', regr.coef_)\n",
        "# the mean squared error\n",
        "print('Mean squared error: %.2f'\n",
        "      % mean_squared_error(y_test, y_pred))\n",
        "# the coefficient of determination(R-square): 1 is perfect prediction \n",
        "print('Coefficient of determination(R^2): %.2f'\n",
        "      % r2_score(y_test, y_pred))\n",
        "\n",
        "# plot outputs\n",
        "plt.scatter(X_test, y_test,  color='black')\n",
        "plt.plot(X_test, y_pred, color='blue', linewidth=3)\n",
        "\n",
        "plt.xticks(())\n",
        "plt.yticks(())\n",
        "\n",
        "plt.show()"
      ],
      "execution_count": 25,
      "outputs": [
        {
          "output_type": "stream",
          "text": [
            "Coefficients: \n",
            " [[12650242.02452242]]\n",
            "Mean squared error: 7435613020117.78\n",
            "Coefficient of determination(R^2): 0.96\n"
          ],
          "name": "stdout"
        },
        {
          "output_type": "display_data",
          "data": {
            "image/png": "[encoded data removed]",
            "text/plain": [
              "<Figure size 432x288 with 1 Axes>"
            ]
          },
          "metadata": {
            "tags": []
          }
        }
      ]
    },
    {
      "cell_type": "markdown",
      "metadata": {
        "id": "44vRX1Am5AIo"
      },
      "source": [
        "The MSE reduce and the R square is high so this could approximately be a good model.\n",
        "\n",
        "Now we can use the modle to predict the budget for movie grade 12."
      ]
    },
    {
      "cell_type": "code",
      "metadata": {
        "colab": {
          "base_uri": "https://localhost:8080/"
        },
        "id": "9KqoPIWp5ePR",
        "outputId": "06c2d3a8-d44c-454c-8a84-7c8b40db1c5a"
      },
      "source": [
        "# suppose we want to predict movie grade 12\n",
        "grade = 12\n",
        "\n",
        "# the predicted cost of movie\n",
        "grade12_cost = regr.predict(np.array([[grade]]))[0].item()\n",
        "grade12_cost"
      ],
      "execution_count": 26,
      "outputs": [
        {
          "output_type": "execute_result",
          "data": {
            "text/plain": [
              "126591338.15692404"
            ]
          },
          "metadata": {
            "tags": []
          },
          "execution_count": 26
        }
      ]
    },
    {
      "cell_type": "markdown",
      "metadata": {
        "id": "pc13eYWoQ_Xu"
      },
      "source": [
        "Assuming grades determine the income (amount of sales/revenue) from a movie by the following function: a0 = -300000 a1 = 3500000 a2 = 900000\n",
        "\n",
        "\n",
        "\n",
        "```\n",
        "income = a0 + a1 * grades + a2 * grade^2\n",
        "```\n",
        "\n",
        "\n",
        "\n",
        "What budget would you choose to make a movie if you want investors to be happy? (assuming investors care about profit, profit)"
      ]
    },
    {
      "cell_type": "code",
      "metadata": {
        "colab": {
          "base_uri": "https://localhost:8080/"
        },
        "id": "6U-EBkbHRDsa",
        "outputId": "67e6c86b-ff4d-4903-c7ac-a73a3f916675"
      },
      "source": [
        "# assuming income for a movie follow this formula with the following parameter\n",
        "a0 = -300000\n",
        "a1 = 3500000\n",
        "a2 = 900000\n",
        "\n",
        "# predicted income\n",
        "income = a0 + a1 * grade + a2 * grade**2\n",
        "income"
      ],
      "execution_count": 27,
      "outputs": [
        {
          "output_type": "execute_result",
          "data": {
            "text/plain": [
              "171300000"
            ]
          },
          "metadata": {
            "tags": []
          },
          "execution_count": 27
        }
      ]
    },
    {
      "cell_type": "markdown",
      "metadata": {
        "id": "zOIa8Ekhfn3B"
      },
      "source": [
        "The predicted profit for grade 12 movie"
      ]
    },
    {
      "cell_type": "code",
      "metadata": {
        "colab": {
          "base_uri": "https://localhost:8080/"
        },
        "id": "mvDKIqf9Ro4Q",
        "outputId": "bad39528-2c4e-4502-8b43-2291736c2013"
      },
      "source": [
        "profit = income - grade12_cost \n",
        "profit"
      ],
      "execution_count": 28,
      "outputs": [
        {
          "output_type": "execute_result",
          "data": {
            "text/plain": [
              "44708661.84307596"
            ]
          },
          "metadata": {
            "tags": []
          },
          "execution_count": 28
        }
      ]
    },
    {
      "cell_type": "markdown",
      "metadata": {
        "id": "mj61R8qZRy5-"
      },
      "source": [
        "The expected profit is positive as the expected income of grade 12 movie is higher than cost(budget). We can choose the budget 10% higher than the expected one to control uncertain circumstance and return the rest of the budget incase there are some left to make investor happy."
      ]
    },
    {
      "cell_type": "markdown",
      "metadata": {
        "id": "6L6epW5sTqjj"
      },
      "source": [
        "# Data Engineering - Bonus Exercise "
      ]
    },
    {
      "cell_type": "code",
      "metadata": {
        "id": "6dqFzFwRJG00"
      },
      "source": [
        "# get url\n",
        "url = \"http://www.imdb.com/chart/top\"\n",
        "response = requests.get(url).content\n",
        "soup = BeautifulSoup(response, 'html.parser')\n",
        "# print(soup.prettify())"
      ],
      "execution_count": 29,
      "outputs": []
    },
    {
      "cell_type": "code",
      "metadata": {
        "id": "Lh075EvXLnLN"
      },
      "source": [
        "# scrap all together\n",
        "movie_id = []\n",
        "movie_title = []\n",
        "years = []\n",
        "directors = []\n",
        "\n",
        "movie_class = soup.find_all('td', class_='titleColumn')\n",
        "for movie in movie_class:\n",
        "  # scrap id, movie title, year, director\n",
        "  id = movie.find('a').previousSibling.replace('\\n','').replace('.','').strip()\n",
        "  moviename = movie.find('a').get_text()\n",
        "  year = movie.find('span').get_text().replace('(','').replace(')','')\n",
        "  director = movie.find('a').get('title').split(',')[0].replace('(dir.)','').strip()\n",
        "  \n",
        "  # add each data to list\n",
        "  movie_id.append(id)    \n",
        "  movie_title.append(moviename)  \n",
        "  years.append(year)\n",
        "  directors.append(director)\n",
        "\n",
        "# scrap rating\n",
        "ratings = soup.find_all('td', class_ = 'ratingColumn imdbRating')\n",
        "ratings\n",
        "movie_rating = []\n",
        "for rating in ratings:\n",
        "  r = rating.find('strong').get_text()\n",
        "  r = float(r)\n",
        "  movie_rating.append(r)"
      ],
      "execution_count": 30,
      "outputs": []
    },
    {
      "cell_type": "code",
      "metadata": {
        "colab": {
          "base_uri": "https://localhost:8080/",
          "height": 423
        },
        "id": "bjHfoSrc58HD",
        "outputId": "fe2ddfd5-07a7-40e8-d739-cebeed5b3f11"
      },
      "source": [
        "# put everything together\n",
        "column_list=['Movie ID','Movie title' ,'Year' ,'Director' ,\n",
        "'Movie rating']\n",
        "df = pd.DataFrame(columns=column_list)\n",
        "movie_dict={\n",
        "        'Movie ID':movie_id,\n",
        "        'Movie title' : movie_title,\n",
        "        'Year' : years,\n",
        "        'Director' : directors,\n",
        "        'Movie rating' : movie_rating,\n",
        "        }\n",
        "# create dataframe\n",
        "df = pd.DataFrame({ key: pd.Series(val) for key, val in movie_dict.items() })\n",
        "df"
      ],
      "execution_count": 31,
      "outputs": [
        {
          "output_type": "execute_result",
          "data": {
            "text/html": [
              "<div>\n",
              "<style scoped>\n",
              "    .dataframe tbody tr th:only-of-type {\n",
              "        vertical-align: middle;\n",
              "    }\n",
              "\n",
              "    .dataframe tbody tr th {\n",
              "        vertical-align: top;\n",
              "    }\n",
              "\n",
              "    .dataframe thead th {\n",
              "        text-align: right;\n",
              "    }\n",
              "</style>\n",
              "<table border=\"1\" class=\"dataframe\">\n",
              "  <thead>\n",
              "    <tr style=\"text-align: right;\">\n",
              "      <th></th>\n",
              "      <th>Movie ID</th>\n",
              "      <th>Movie title</th>\n",
              "      <th>Year</th>\n",
              "      <th>Director</th>\n",
              "      <th>Movie rating</th>\n",
              "    </tr>\n",
              "  </thead>\n",
              "  <tbody>\n",
              "    <tr>\n",
              "      <th>0</th>\n",
              "      <td>1</td>\n",
              "      <td>The Shawshank Redemption</td>\n",
              "      <td>1994</td>\n",
              "      <td>Frank Darabont</td>\n",
              "      <td>9.2</td>\n",
              "    </tr>\n",
              "    <tr>\n",
              "      <th>1</th>\n",
              "      <td>2</td>\n",
              "      <td>The Godfather</td>\n",
              "      <td>1972</td>\n",
              "      <td>Francis Ford Coppola</td>\n",
              "      <td>9.1</td>\n",
              "    </tr>\n",
              "    <tr>\n",
              "      <th>2</th>\n",
              "      <td>3</td>\n",
              "      <td>The Godfather: Part II</td>\n",
              "      <td>1974</td>\n",
              "      <td>Francis Ford Coppola</td>\n",
              "      <td>9.0</td>\n",
              "    </tr>\n",
              "    <tr>\n",
              "      <th>3</th>\n",
              "      <td>4</td>\n",
              "      <td>The Dark Knight</td>\n",
              "      <td>2008</td>\n",
              "      <td>Christopher Nolan</td>\n",
              "      <td>9.0</td>\n",
              "    </tr>\n",
              "    <tr>\n",
              "      <th>4</th>\n",
              "      <td>5</td>\n",
              "      <td>12 Angry Men</td>\n",
              "      <td>1957</td>\n",
              "      <td>Sidney Lumet</td>\n",
              "      <td>8.9</td>\n",
              "    </tr>\n",
              "    <tr>\n",
              "      <th>...</th>\n",
              "      <td>...</td>\n",
              "      <td>...</td>\n",
              "      <td>...</td>\n",
              "      <td>...</td>\n",
              "      <td>...</td>\n",
              "    </tr>\n",
              "    <tr>\n",
              "      <th>245</th>\n",
              "      <td>246</td>\n",
              "      <td>Fanny and Alexander</td>\n",
              "      <td>1982</td>\n",
              "      <td>Ingmar Bergman</td>\n",
              "      <td>8.0</td>\n",
              "    </tr>\n",
              "    <tr>\n",
              "      <th>246</th>\n",
              "      <td>247</td>\n",
              "      <td>The Princess Bride</td>\n",
              "      <td>1987</td>\n",
              "      <td>Rob Reiner</td>\n",
              "      <td>8.0</td>\n",
              "    </tr>\n",
              "    <tr>\n",
              "      <th>247</th>\n",
              "      <td>248</td>\n",
              "      <td>Soul</td>\n",
              "      <td>2020</td>\n",
              "      <td>Pete Docter</td>\n",
              "      <td>8.0</td>\n",
              "    </tr>\n",
              "    <tr>\n",
              "      <th>248</th>\n",
              "      <td>249</td>\n",
              "      <td>Nights of Cabiria</td>\n",
              "      <td>1957</td>\n",
              "      <td>Federico Fellini</td>\n",
              "      <td>8.0</td>\n",
              "    </tr>\n",
              "    <tr>\n",
              "      <th>249</th>\n",
              "      <td>250</td>\n",
              "      <td>Sunrise</td>\n",
              "      <td>1927</td>\n",
              "      <td>F.W. Murnau</td>\n",
              "      <td>8.0</td>\n",
              "    </tr>\n",
              "  </tbody>\n",
              "</table>\n",
              "<p>250 rows × 5 columns</p>\n",
              "</div>"
            ],
            "text/plain": [
              "    Movie ID               Movie title  ...              Director Movie rating\n",
              "0          1  The Shawshank Redemption  ...        Frank Darabont          9.2\n",
              "1          2             The Godfather  ...  Francis Ford Coppola          9.1\n",
              "2          3    The Godfather: Part II  ...  Francis Ford Coppola          9.0\n",
              "3          4           The Dark Knight  ...     Christopher Nolan          9.0\n",
              "4          5              12 Angry Men  ...          Sidney Lumet          8.9\n",
              "..       ...                       ...  ...                   ...          ...\n",
              "245      246       Fanny and Alexander  ...        Ingmar Bergman          8.0\n",
              "246      247        The Princess Bride  ...            Rob Reiner          8.0\n",
              "247      248                      Soul  ...           Pete Docter          8.0\n",
              "248      249         Nights of Cabiria  ...      Federico Fellini          8.0\n",
              "249      250                   Sunrise  ...           F.W. Murnau          8.0\n",
              "\n",
              "[250 rows x 5 columns]"
            ]
          },
          "metadata": {
            "tags": []
          },
          "execution_count": 31
        }
      ]
    },
    {
      "cell_type": "code",
      "metadata": {
        "colab": {
          "base_uri": "https://localhost:8080/",
          "height": 423
        },
        "id": "P8JUnxAVOWNx",
        "outputId": "905530d9-491e-4bda-ec3a-b1717cba0d2d"
      },
      "source": [
        "# create unique director id\n",
        "df['director_id'] = df['Director'].map(hash)\n",
        "df"
      ],
      "execution_count": 32,
      "outputs": [
        {
          "output_type": "execute_result",
          "data": {
            "text/html": [
              "<div>\n",
              "<style scoped>\n",
              "    .dataframe tbody tr th:only-of-type {\n",
              "        vertical-align: middle;\n",
              "    }\n",
              "\n",
              "    .dataframe tbody tr th {\n",
              "        vertical-align: top;\n",
              "    }\n",
              "\n",
              "    .dataframe thead th {\n",
              "        text-align: right;\n",
              "    }\n",
              "</style>\n",
              "<table border=\"1\" class=\"dataframe\">\n",
              "  <thead>\n",
              "    <tr style=\"text-align: right;\">\n",
              "      <th></th>\n",
              "      <th>Movie ID</th>\n",
              "      <th>Movie title</th>\n",
              "      <th>Year</th>\n",
              "      <th>Director</th>\n",
              "      <th>Movie rating</th>\n",
              "      <th>director_id</th>\n",
              "    </tr>\n",
              "  </thead>\n",
              "  <tbody>\n",
              "    <tr>\n",
              "      <th>0</th>\n",
              "      <td>1</td>\n",
              "      <td>The Shawshank Redemption</td>\n",
              "      <td>1994</td>\n",
              "      <td>Frank Darabont</td>\n",
              "      <td>9.2</td>\n",
              "      <td>-5736128688911018851</td>\n",
              "    </tr>\n",
              "    <tr>\n",
              "      <th>1</th>\n",
              "      <td>2</td>\n",
              "      <td>The Godfather</td>\n",
              "      <td>1972</td>\n",
              "      <td>Francis Ford Coppola</td>\n",
              "      <td>9.1</td>\n",
              "      <td>-5057499341722760387</td>\n",
              "    </tr>\n",
              "    <tr>\n",
              "      <th>2</th>\n",
              "      <td>3</td>\n",
              "      <td>The Godfather: Part II</td>\n",
              "      <td>1974</td>\n",
              "      <td>Francis Ford Coppola</td>\n",
              "      <td>9.0</td>\n",
              "      <td>-5057499341722760387</td>\n",
              "    </tr>\n",
              "    <tr>\n",
              "      <th>3</th>\n",
              "      <td>4</td>\n",
              "      <td>The Dark Knight</td>\n",
              "      <td>2008</td>\n",
              "      <td>Christopher Nolan</td>\n",
              "      <td>9.0</td>\n",
              "      <td>8341916855202264478</td>\n",
              "    </tr>\n",
              "    <tr>\n",
              "      <th>4</th>\n",
              "      <td>5</td>\n",
              "      <td>12 Angry Men</td>\n",
              "      <td>1957</td>\n",
              "      <td>Sidney Lumet</td>\n",
              "      <td>8.9</td>\n",
              "      <td>-3682405262966271626</td>\n",
              "    </tr>\n",
              "    <tr>\n",
              "      <th>...</th>\n",
              "      <td>...</td>\n",
              "      <td>...</td>\n",
              "      <td>...</td>\n",
              "      <td>...</td>\n",
              "      <td>...</td>\n",
              "      <td>...</td>\n",
              "    </tr>\n",
              "    <tr>\n",
              "      <th>245</th>\n",
              "      <td>246</td>\n",
              "      <td>Fanny and Alexander</td>\n",
              "      <td>1982</td>\n",
              "      <td>Ingmar Bergman</td>\n",
              "      <td>8.0</td>\n",
              "      <td>-1726987230058069929</td>\n",
              "    </tr>\n",
              "    <tr>\n",
              "      <th>246</th>\n",
              "      <td>247</td>\n",
              "      <td>The Princess Bride</td>\n",
              "      <td>1987</td>\n",
              "      <td>Rob Reiner</td>\n",
              "      <td>8.0</td>\n",
              "      <td>-7811432821022492474</td>\n",
              "    </tr>\n",
              "    <tr>\n",
              "      <th>247</th>\n",
              "      <td>248</td>\n",
              "      <td>Soul</td>\n",
              "      <td>2020</td>\n",
              "      <td>Pete Docter</td>\n",
              "      <td>8.0</td>\n",
              "      <td>-1638071542206917529</td>\n",
              "    </tr>\n",
              "    <tr>\n",
              "      <th>248</th>\n",
              "      <td>249</td>\n",
              "      <td>Nights of Cabiria</td>\n",
              "      <td>1957</td>\n",
              "      <td>Federico Fellini</td>\n",
              "      <td>8.0</td>\n",
              "      <td>8597841117612720716</td>\n",
              "    </tr>\n",
              "    <tr>\n",
              "      <th>249</th>\n",
              "      <td>250</td>\n",
              "      <td>Sunrise</td>\n",
              "      <td>1927</td>\n",
              "      <td>F.W. Murnau</td>\n",
              "      <td>8.0</td>\n",
              "      <td>-5017472068778445854</td>\n",
              "    </tr>\n",
              "  </tbody>\n",
              "</table>\n",
              "<p>250 rows × 6 columns</p>\n",
              "</div>"
            ],
            "text/plain": [
              "    Movie ID               Movie title  ... Movie rating          director_id\n",
              "0          1  The Shawshank Redemption  ...          9.2 -5736128688911018851\n",
              "1          2             The Godfather  ...          9.1 -5057499341722760387\n",
              "2          3    The Godfather: Part II  ...          9.0 -5057499341722760387\n",
              "3          4           The Dark Knight  ...          9.0  8341916855202264478\n",
              "4          5              12 Angry Men  ...          8.9 -3682405262966271626\n",
              "..       ...                       ...  ...          ...                  ...\n",
              "245      246       Fanny and Alexander  ...          8.0 -1726987230058069929\n",
              "246      247        The Princess Bride  ...          8.0 -7811432821022492474\n",
              "247      248                      Soul  ...          8.0 -1638071542206917529\n",
              "248      249         Nights of Cabiria  ...          8.0  8597841117612720716\n",
              "249      250                   Sunrise  ...          8.0 -5017472068778445854\n",
              "\n",
              "[250 rows x 6 columns]"
            ]
          },
          "metadata": {
            "tags": []
          },
          "execution_count": 32
        }
      ]
    },
    {
      "cell_type": "code",
      "metadata": {
        "colab": {
          "base_uri": "https://localhost:8080/",
          "height": 423
        },
        "id": "7PTqYJyubFVj",
        "outputId": "5f9b09eb-63fb-47be-e409-41a2e2dba103"
      },
      "source": [
        "# director dataframe\n",
        "df_directors = df[[\"director_id\", \"Director\"]].drop_duplicates()\n",
        "df_directors"
      ],
      "execution_count": 33,
      "outputs": [
        {
          "output_type": "execute_result",
          "data": {
            "text/html": [
              "<div>\n",
              "<style scoped>\n",
              "    .dataframe tbody tr th:only-of-type {\n",
              "        vertical-align: middle;\n",
              "    }\n",
              "\n",
              "    .dataframe tbody tr th {\n",
              "        vertical-align: top;\n",
              "    }\n",
              "\n",
              "    .dataframe thead th {\n",
              "        text-align: right;\n",
              "    }\n",
              "</style>\n",
              "<table border=\"1\" class=\"dataframe\">\n",
              "  <thead>\n",
              "    <tr style=\"text-align: right;\">\n",
              "      <th></th>\n",
              "      <th>director_id</th>\n",
              "      <th>Director</th>\n",
              "    </tr>\n",
              "  </thead>\n",
              "  <tbody>\n",
              "    <tr>\n",
              "      <th>0</th>\n",
              "      <td>-5736128688911018851</td>\n",
              "      <td>Frank Darabont</td>\n",
              "    </tr>\n",
              "    <tr>\n",
              "      <th>1</th>\n",
              "      <td>-5057499341722760387</td>\n",
              "      <td>Francis Ford Coppola</td>\n",
              "    </tr>\n",
              "    <tr>\n",
              "      <th>3</th>\n",
              "      <td>8341916855202264478</td>\n",
              "      <td>Christopher Nolan</td>\n",
              "    </tr>\n",
              "    <tr>\n",
              "      <th>4</th>\n",
              "      <td>-3682405262966271626</td>\n",
              "      <td>Sidney Lumet</td>\n",
              "    </tr>\n",
              "    <tr>\n",
              "      <th>5</th>\n",
              "      <td>521977289143686225</td>\n",
              "      <td>Steven Spielberg</td>\n",
              "    </tr>\n",
              "    <tr>\n",
              "      <th>...</th>\n",
              "      <td>...</td>\n",
              "      <td>...</td>\n",
              "    </tr>\n",
              "    <tr>\n",
              "      <th>242</th>\n",
              "      <td>4510730705609854820</td>\n",
              "      <td>Hideaki Anno</td>\n",
              "    </tr>\n",
              "    <tr>\n",
              "      <th>243</th>\n",
              "      <td>-5224451238411867456</td>\n",
              "      <td>Jeethu Joseph</td>\n",
              "    </tr>\n",
              "    <tr>\n",
              "      <th>244</th>\n",
              "      <td>-1125846958439298659</td>\n",
              "      <td>Krzysztof Kieslowski</td>\n",
              "    </tr>\n",
              "    <tr>\n",
              "      <th>248</th>\n",
              "      <td>8597841117612720716</td>\n",
              "      <td>Federico Fellini</td>\n",
              "    </tr>\n",
              "    <tr>\n",
              "      <th>249</th>\n",
              "      <td>-5017472068778445854</td>\n",
              "      <td>F.W. Murnau</td>\n",
              "    </tr>\n",
              "  </tbody>\n",
              "</table>\n",
              "<p>155 rows × 2 columns</p>\n",
              "</div>"
            ],
            "text/plain": [
              "             director_id              Director\n",
              "0   -5736128688911018851        Frank Darabont\n",
              "1   -5057499341722760387  Francis Ford Coppola\n",
              "3    8341916855202264478     Christopher Nolan\n",
              "4   -3682405262966271626          Sidney Lumet\n",
              "5     521977289143686225      Steven Spielberg\n",
              "..                   ...                   ...\n",
              "242  4510730705609854820          Hideaki Anno\n",
              "243 -5224451238411867456         Jeethu Joseph\n",
              "244 -1125846958439298659  Krzysztof Kieslowski\n",
              "248  8597841117612720716      Federico Fellini\n",
              "249 -5017472068778445854           F.W. Murnau\n",
              "\n",
              "[155 rows x 2 columns]"
            ]
          },
          "metadata": {
            "tags": []
          },
          "execution_count": 33
        }
      ]
    },
    {
      "cell_type": "code",
      "metadata": {
        "id": "0XffjFxNcT29"
      },
      "source": [
        "# export to csv\n",
        "df_directors.to_csv('directors.csv', index=False)"
      ],
      "execution_count": 34,
      "outputs": []
    },
    {
      "cell_type": "code",
      "metadata": {
        "colab": {
          "base_uri": "https://localhost:8080/",
          "height": 423
        },
        "id": "fvLBF6vIcitg",
        "outputId": "d654143a-3aec-4736-d2a9-78c720a65847"
      },
      "source": [
        "# movies dataframe\n",
        "df_movies = df.drop('Director', axis=1)\n",
        "df_movies"
      ],
      "execution_count": 35,
      "outputs": [
        {
          "output_type": "execute_result",
          "data": {
            "text/html": [
              "<div>\n",
              "<style scoped>\n",
              "    .dataframe tbody tr th:only-of-type {\n",
              "        vertical-align: middle;\n",
              "    }\n",
              "\n",
              "    .dataframe tbody tr th {\n",
              "        vertical-align: top;\n",
              "    }\n",
              "\n",
              "    .dataframe thead th {\n",
              "        text-align: right;\n",
              "    }\n",
              "</style>\n",
              "<table border=\"1\" class=\"dataframe\">\n",
              "  <thead>\n",
              "    <tr style=\"text-align: right;\">\n",
              "      <th></th>\n",
              "      <th>Movie ID</th>\n",
              "      <th>Movie title</th>\n",
              "      <th>Year</th>\n",
              "      <th>Movie rating</th>\n",
              "      <th>director_id</th>\n",
              "    </tr>\n",
              "  </thead>\n",
              "  <tbody>\n",
              "    <tr>\n",
              "      <th>0</th>\n",
              "      <td>1</td>\n",
              "      <td>The Shawshank Redemption</td>\n",
              "      <td>1994</td>\n",
              "      <td>9.2</td>\n",
              "      <td>-5736128688911018851</td>\n",
              "    </tr>\n",
              "    <tr>\n",
              "      <th>1</th>\n",
              "      <td>2</td>\n",
              "      <td>The Godfather</td>\n",
              "      <td>1972</td>\n",
              "      <td>9.1</td>\n",
              "      <td>-5057499341722760387</td>\n",
              "    </tr>\n",
              "    <tr>\n",
              "      <th>2</th>\n",
              "      <td>3</td>\n",
              "      <td>The Godfather: Part II</td>\n",
              "      <td>1974</td>\n",
              "      <td>9.0</td>\n",
              "      <td>-5057499341722760387</td>\n",
              "    </tr>\n",
              "    <tr>\n",
              "      <th>3</th>\n",
              "      <td>4</td>\n",
              "      <td>The Dark Knight</td>\n",
              "      <td>2008</td>\n",
              "      <td>9.0</td>\n",
              "      <td>8341916855202264478</td>\n",
              "    </tr>\n",
              "    <tr>\n",
              "      <th>4</th>\n",
              "      <td>5</td>\n",
              "      <td>12 Angry Men</td>\n",
              "      <td>1957</td>\n",
              "      <td>8.9</td>\n",
              "      <td>-3682405262966271626</td>\n",
              "    </tr>\n",
              "    <tr>\n",
              "      <th>...</th>\n",
              "      <td>...</td>\n",
              "      <td>...</td>\n",
              "      <td>...</td>\n",
              "      <td>...</td>\n",
              "      <td>...</td>\n",
              "    </tr>\n",
              "    <tr>\n",
              "      <th>245</th>\n",
              "      <td>246</td>\n",
              "      <td>Fanny and Alexander</td>\n",
              "      <td>1982</td>\n",
              "      <td>8.0</td>\n",
              "      <td>-1726987230058069929</td>\n",
              "    </tr>\n",
              "    <tr>\n",
              "      <th>246</th>\n",
              "      <td>247</td>\n",
              "      <td>The Princess Bride</td>\n",
              "      <td>1987</td>\n",
              "      <td>8.0</td>\n",
              "      <td>-7811432821022492474</td>\n",
              "    </tr>\n",
              "    <tr>\n",
              "      <th>247</th>\n",
              "      <td>248</td>\n",
              "      <td>Soul</td>\n",
              "      <td>2020</td>\n",
              "      <td>8.0</td>\n",
              "      <td>-1638071542206917529</td>\n",
              "    </tr>\n",
              "    <tr>\n",
              "      <th>248</th>\n",
              "      <td>249</td>\n",
              "      <td>Nights of Cabiria</td>\n",
              "      <td>1957</td>\n",
              "      <td>8.0</td>\n",
              "      <td>8597841117612720716</td>\n",
              "    </tr>\n",
              "    <tr>\n",
              "      <th>249</th>\n",
              "      <td>250</td>\n",
              "      <td>Sunrise</td>\n",
              "      <td>1927</td>\n",
              "      <td>8.0</td>\n",
              "      <td>-5017472068778445854</td>\n",
              "    </tr>\n",
              "  </tbody>\n",
              "</table>\n",
              "<p>250 rows × 5 columns</p>\n",
              "</div>"
            ],
            "text/plain": [
              "    Movie ID               Movie title  Year  Movie rating          director_id\n",
              "0          1  The Shawshank Redemption  1994           9.2 -5736128688911018851\n",
              "1          2             The Godfather  1972           9.1 -5057499341722760387\n",
              "2          3    The Godfather: Part II  1974           9.0 -5057499341722760387\n",
              "3          4           The Dark Knight  2008           9.0  8341916855202264478\n",
              "4          5              12 Angry Men  1957           8.9 -3682405262966271626\n",
              "..       ...                       ...   ...           ...                  ...\n",
              "245      246       Fanny and Alexander  1982           8.0 -1726987230058069929\n",
              "246      247        The Princess Bride  1987           8.0 -7811432821022492474\n",
              "247      248                      Soul  2020           8.0 -1638071542206917529\n",
              "248      249         Nights of Cabiria  1957           8.0  8597841117612720716\n",
              "249      250                   Sunrise  1927           8.0 -5017472068778445854\n",
              "\n",
              "[250 rows x 5 columns]"
            ]
          },
          "metadata": {
            "tags": []
          },
          "execution_count": 35
        }
      ]
    },
    {
      "cell_type": "code",
      "metadata": {
        "id": "T2KlSmSG8nGs"
      },
      "source": [
        "# export to csv\n",
        "df_movies.to_csv('movies.csv', index=False)"
      ],
      "execution_count": 36,
      "outputs": []
    }
  ]
}